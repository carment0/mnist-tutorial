{
 "cells": [
  {
   "cell_type": "markdown",
   "metadata": {},
   "source": [
    "# What is a loss function?\n",
    "\n",
    "It is the deviation between the predicted value to the actual value.\n",
    "\n",
    "Let's dive deeper...\n",
    "$$\n",
    "x: \\; input \\\\\n",
    "y: \\; expected\\,output \\\\\n",
    "\\hat{y}: \\; current\\,predicted\\,output\n",
    "$$\n",
    "\n",
    "\n",
    "When Δ is 0, our prediction is accurate.\n",
    "$$\n",
    "\\Delta = y - \\hat{y}\\\\\n",
    "$$\n",
    "\n",
    "But how do we get there? What can we change in the equation above?\n",
    "$$\n",
    "foo(x) \\; \\rightarrow \\; y \\\\\n",
    "\\Delta = foo(x) - \\hat{y}\\\\\n",
    "$$\n",
    "\n",
    "We can change the params in the `foo(x)` function!\n",
    "\n",
    "```\n",
    "foo(x, params)\n",
    "    x * params[0] + params[1]\n",
    "```\n",
    "\n",
    "#### What does this mean in terms of machine learning?\n",
    "\n",
    "$$\n",
    "\\Delta = Loss\\,Function\n",
    "$$\n",
    "___\n",
    "**Exercise 1**: Given the following data points, find the param values and write an algorithm to achieve 0."
   ]
  },
  {
   "cell_type": "code",
   "execution_count": 4,
   "metadata": {},
   "outputs": [
    {
     "data": {
      "text/plain": [
       "0"
      ]
     },
     "execution_count": 4,
     "metadata": {},
     "output_type": "execute_result"
    }
   ],
   "source": [
    "data = [(0, 100), (1, 150), (2, 200), (3, 250)]\n",
    "params = (50, 100)\n",
    "\n",
    "def pred(x, params):\n",
    "    p0, p1 = params\n",
    "    return p0 * x + p1\n",
    "\n",
    "def loss(data, pred, params):\n",
    "    loss = 0\n",
    "    for datum in data:\n",
    "        x, y = datum\n",
    "        loss += (y - pred(x, params))**2 # Why square? Keeps the loss range between 0 to ∞.\n",
    "        \n",
    "    return loss\n",
    "\n",
    "loss(data, pred, params)"
   ]
  },
  {
   "cell_type": "markdown",
   "metadata": {},
   "source": [
    "___\n",
    "\n",
    "#### What does this mean in terms of math?\n",
    "$$\n",
    "X: \\; A\\,set\\,of\\,input,\\; x_{i} \\\\\n",
    "Y: \\; A\\,set\\,of\\,expected\\,output,\\; y_{i} \\\\\n",
    "P_{0}: \\; params[0] \\\\\n",
    "P_{1}: \\; params[1] \\\\\n",
    "$$\n",
    "\n",
    "> *i subscipt is equivalent to the index of the array*\n",
    "\n",
    "$$\n",
    "\\hat{y}_{i} = P_{0}x_{i}+P_{1} \\\\\n",
    "L = \\Sigma_{i=0}^{3} (P_{0}x_{i} + P_i - y_{i})^{2}\n",
    "$$\n",
    "\n",
    "Loss as a function:\n",
    "$$\n",
    "L (P_{0},P_{1})\n",
    "$$\n",
    "\n",
    "To find L we need to find the params values. How do we solve this? Derivative!\n",
    "\n"
   ]
  },
  {
   "cell_type": "markdown",
   "metadata": {},
   "source": [
    "# How to take derivative?\n",
    "\n",
    "## Power rule\n",
    "$$\n",
    "nx^{n-1}\n",
    "$$\n",
    "\n",
    "Example:\n",
    "$$\n",
    "f(x) = 3x^{2} \\\\\n",
    "\\frac{\\partial f}{\\partial x} = 6x\n",
    "$$\n",
    "\n",
    "\n",
    "## Chain rule\n",
    "$$\n",
    "f(g(x)) \\\\\n",
    "\\frac{\\partial f}{\\partial x} = \\frac{\\partial g}{\\partial x} \\times  \\frac{\\partial f}{\\partial g}\n",
    "$$\n",
    "\n",
    "Example:\n",
    "$$\n",
    "g(x)= 3x^{3} \\\\\n",
    "f(g)=g^2 \\\\\n",
    "9x^2 \\times 2g \\\\\n",
    "9x^2 \\times 6x^3 \\\\\n",
    "\\Rightarrow 54x^5\n",
    "$$\n"
   ]
  },
  {
   "cell_type": "code",
   "execution_count": null,
   "metadata": {},
   "outputs": [],
   "source": []
  },
  {
   "cell_type": "code",
   "execution_count": null,
   "metadata": {},
   "outputs": [],
   "source": []
  }
 ],
 "metadata": {
  "kernelspec": {
   "display_name": "Python 2",
   "language": "python",
   "name": "python2"
  },
  "language_info": {
   "codemirror_mode": {
    "name": "ipython",
    "version": 2
   },
   "file_extension": ".py",
   "mimetype": "text/x-python",
   "name": "python",
   "nbconvert_exporter": "python",
   "pygments_lexer": "ipython2",
   "version": "2.7.10"
  }
 },
 "nbformat": 4,
 "nbformat_minor": 2
}
