{
 "cells": [
  {
   "cell_type": "markdown",
   "metadata": {},
   "source": [
    "# Softmax\n",
    "A function we use to squash a range of random numberic values into a range of 0 to 1.\n",
    "\n",
    "```\n",
    "# name: hugability\n",
    "{\n",
    "    \"momo\": 100,\n",
    "    \"loki\": 90,\n",
    "    \"hero\": 70,\n",
    "    \"donut\": -100\n",
    "}\n",
    "\n",
    "```\n",
    "## Quantifying Score"
   ]
  },
  {
   "cell_type": "code",
   "execution_count": 3,
   "metadata": {},
   "outputs": [],
   "source": [
    "import numpy as np\n",
    "\n",
    "pet_names = ['momo', 'loki', 'hero', 'donut']\n",
    "pet_scores = [100, 90, 70, -100]"
   ]
  },
  {
   "cell_type": "code",
   "execution_count": 4,
   "metadata": {},
   "outputs": [],
   "source": [
    "def  probability (scores, i):\n",
    "    exp_sum = 0\n",
    "    for score in scores:\n",
    "        exp_sum += np.exp(score)\n",
    "    \n",
    "    return np.exp(scores[i]) / exp_sum\n"
   ]
  },
  {
   "cell_type": "code",
   "execution_count": 5,
   "metadata": {},
   "outputs": [
    {
     "name": "stdout",
     "output_type": "stream",
     "text": [
      "Probability of hugging momo to give most satisfaction is 0.999955\n",
      "Probability of hugging loki to give most satisfaction is 0.000045\n",
      "Probability of hugging hero to give most satisfaction is 0.000000\n",
      "Probability of hugging donut to give most satisfaction is 0.000000\n"
     ]
    }
   ],
   "source": [
    "for i in range(len(pet_names)):\n",
    "    print \"Probability of hugging %s to give most satisfaction is %f\" % (pet_names[i], probability(pet_scores, i))"
   ]
  },
  {
   "cell_type": "markdown",
   "metadata": {},
   "source": [
    "## Numerically Instability\n"
   ]
  },
  {
   "cell_type": "code",
   "execution_count": 6,
   "metadata": {},
   "outputs": [
    {
     "name": "stderr",
     "output_type": "stream",
     "text": [
      "/Users/carmento/Desktop/mnist-tutorial/environment/lib/python2.7/site-packages/ipykernel_launcher.py:4: RuntimeWarning: overflow encountered in exp\n",
      "  after removing the cwd from sys.path.\n",
      "/Users/carmento/Desktop/mnist-tutorial/environment/lib/python2.7/site-packages/ipykernel_launcher.py:6: RuntimeWarning: overflow encountered in exp\n",
      "  \n",
      "/Users/carmento/Desktop/mnist-tutorial/environment/lib/python2.7/site-packages/ipykernel_launcher.py:6: RuntimeWarning: invalid value encountered in double_scalars\n",
      "  \n"
     ]
    },
    {
     "data": {
      "text/plain": [
       "nan"
      ]
     },
     "execution_count": 6,
     "metadata": {},
     "output_type": "execute_result"
    }
   ],
   "source": [
    "car_brands = ['mazda', 'porsche', 'hyundai']\n",
    "car_scores = [100, 1000, 100]\n",
    "\n",
    "probability(car_scores, 1)\n"
   ]
  },
  {
   "cell_type": "code",
   "execution_count": 10,
   "metadata": {},
   "outputs": [
    {
     "name": "stdout",
     "output_type": "stream",
     "text": [
      "Probability of mazda being the best is 0.000000\n",
      "Probability of porsche being the best is 1.000000\n",
      "Probability of hyundai being the best is 0.000000\n"
     ]
    }
   ],
   "source": [
    "\n",
    "def  stable_probability (scores, i):\n",
    "    max_score = np.max(scores)\n",
    "    exp_sum = 0\n",
    "    for score in scores:\n",
    "        exp_sum += np.exp(score - max_score)\n",
    "    \n",
    "    return np.exp(scores[i] - max_score) / exp_sum\n",
    "\n",
    "\n",
    "for i in range(len(car_brands)):\n",
    "    print \"Probability of %s being the best is %f\" % (car_brands[i], stable_probability(car_scores, i))\n",
    "    "
   ]
  },
  {
   "cell_type": "code",
   "execution_count": null,
   "metadata": {},
   "outputs": [],
   "source": []
  }
 ],
 "metadata": {
  "kernelspec": {
   "display_name": "Python 2",
   "language": "python",
   "name": "python2"
  },
  "language_info": {
   "codemirror_mode": {
    "name": "ipython",
    "version": 2
   },
   "file_extension": ".py",
   "mimetype": "text/x-python",
   "name": "python",
   "nbconvert_exporter": "python",
   "pygments_lexer": "ipython2",
   "version": "2.7.10"
  }
 },
 "nbformat": 4,
 "nbformat_minor": 2
}
