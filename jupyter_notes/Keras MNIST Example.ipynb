{
 "cells": [
  {
   "cell_type": "markdown",
   "metadata": {},
   "source": [
    "# MNIST Example in Keras\n"
   ]
  },
  {
   "cell_type": "code",
   "execution_count": 2,
   "metadata": {},
   "outputs": [
    {
     "name": "stderr",
     "output_type": "stream",
     "text": [
      "Using TensorFlow backend.\n"
     ]
    }
   ],
   "source": [
    "import numpy as np\n",
    "from matplotlib import pyplot as plt\n",
    "from keras.datasets import mnist\n",
    "\n",
    "# x = range(9)\n",
    "# y = range(9)\n",
    "\n",
    "# plt.plot(x, y, '-o')\n",
    "# plt.show()\n",
    "\n"
   ]
  },
  {
   "cell_type": "code",
   "execution_count": 32,
   "metadata": {},
   "outputs": [
    {
     "name": "stdout",
     "output_type": "stream",
     "text": [
      "Image is 5\n"
     ]
    },
    {
     "data": {
      "image/png": "[encoded data removed]",
      "text/plain": [
       "<Figure size 432x288 with 1 Axes>"
      ]
     },
     "metadata": {},
     "output_type": "display_data"
    }
   ],
   "source": [
    "# loading images of the handwritten datasets\n",
    "(x_train, y_train), (x_test, y_test) = mnist.load_data()\n",
    "\n",
    "## array representation of hand written image\n",
    "# x_train[0]\n",
    "\n",
    "# colored graph representation of hand written image\n",
    "plt.imshow(x_train[0])\n",
    "plt.show\n",
    "\n",
    "## shows that x_train is a 3 dimensional array (# of image, height, width)\n",
    "# print x_train.shape\n",
    "# => (60000, 28, 28)\n",
    "\n",
    "# y_train is the correct label of the image\n",
    "print 'Image is %d' % y_train[0]\n",
    "# => 5\n",
    "\n",
    "# x_test and y_test are used to test accuracy, it is hidden from the training program.\n"
   ]
  },
  {
   "cell_type": "markdown",
   "metadata": {},
   "source": [
    "I will build a 3-layer neural network using Keras"
   ]
  },
  {
   "cell_type": "code",
   "execution_count": 22,
   "metadata": {},
   "outputs": [],
   "source": [
    "from keras.models import Sequential\n",
    "from keras.layers import Dense, Activation\n",
    "\n",
    "# sequential aka feed forward, need to know the size of input and output\n",
    "# **other: recurrent**\n",
    "model = Sequential()\n",
    "# Dense is a fully connect hidden layer \n",
    "model.add(Dense(300, input_dim=28*28))\n",
    "# ReLU e.g. dimming lights\n",
    "model.add(Activation('relu'))\n",
    "model.add(Dense(50, input_dim=300))\n",
    "model.add(Activation('relu'))\n",
    "model.add(Dense(10, input_dim=50))\n",
    "# Softmax is normalization probability \n",
    "model.add(Activation('softmax'))\n",
    "\n",
    "# # softmax example\n",
    "# acts = [1, 4, 45, 70, 32]\n",
    "\n",
    "# sum_exp = 0\n",
    "# for x in acts:\n",
    "#     sum_exp += np.exp(x)\n",
    "\n",
    "# for x in acts:\n",
    "#     print 'prob:', np.exp(x) / sum_exp\n",
    "    "
   ]
  },
  {
   "cell_type": "markdown",
   "metadata": {},
   "source": [
    "Let's train the model!"
   ]
  },
  {
   "cell_type": "code",
   "execution_count": 28,
   "metadata": {},
   "outputs": [
    {
     "name": "stdout",
     "output_type": "stream",
     "text": [
      "Epoch 1/10\n",
      "60000/60000 [==============================] - 3s 44us/step - loss: 0.0448 - acc: 0.9855\n",
      "Epoch 2/10\n",
      "60000/60000 [==============================] - 2s 40us/step - loss: 0.0343 - acc: 0.9894\n",
      "Epoch 3/10\n",
      "60000/60000 [==============================] - 3s 44us/step - loss: 0.0257 - acc: 0.9931\n",
      "Epoch 4/10\n",
      "60000/60000 [==============================] - 2s 41us/step - loss: 0.0190 - acc: 0.9953\n",
      "Epoch 5/10\n",
      "60000/60000 [==============================] - 2s 41us/step - loss: 0.0149 - acc: 0.9965\n",
      "Epoch 6/10\n",
      "60000/60000 [==============================] - 2s 41us/step - loss: 0.0119 - acc: 0.9977\n",
      "Epoch 7/10\n",
      "60000/60000 [==============================] - 2s 41us/step - loss: 0.0094 - acc: 0.9985\n",
      "Epoch 8/10\n",
      "60000/60000 [==============================] - 2s 41us/step - loss: 0.0077 - acc: 0.9991\n",
      "Epoch 9/10\n",
      "60000/60000 [==============================] - 3s 43us/step - loss: 0.0065 - acc: 0.9993\n",
      "Epoch 10/10\n",
      "60000/60000 [==============================] - 2s 42us/step - loss: 0.0058 - acc: 0.9994\n"
     ]
    },
    {
     "data": {
      "text/plain": [
       "<keras.callbacks.History at 0x107632ed0>"
      ]
     },
     "execution_count": 28,
     "metadata": {},
     "output_type": "execute_result"
    }
   ],
   "source": [
    "from keras.optimizers import SGD\n",
    "from keras.utils import to_categorical\n",
    "\n",
    "# Destructure the shape of current input data\n",
    "N, H, W = x_train.shape\n",
    "\n",
    "# Reshape aka flatten 28*28 2D array to single array \n",
    "# 60000 by 784 matrix\n",
    "# why? easier to calculate and libs require labels to be converted to one-hot representation\n",
    "# .reshape(rows, cols)\n",
    "# normalize with 255 (max value of a pixel)\n",
    "x = x_train.reshape((N, H*W)).astype('float') / 255\n",
    "y = to_categorical(y_train, num_classes=10)\n",
    "\n",
    "# Define optimizer (stochastic gradient descent)\n",
    "# performs update to the parameters\n",
    "# lr - learning rate\n",
    "# decay - decay pg the learning rate\n",
    "# momentum \n",
    "sgd = SGD(lr=0.01, decay=1e-4, momentum=0.9)\n",
    "\n",
    "# setup metrics we care about\n",
    "model.compile(optimizer=sgd, loss='categorical_crossentropy', metrics=['accuracy'])\n",
    "model.fit(x, y, epochs=10, batch_size=50)\n",
    "# 1 epoch: 60000/50 = 1200 iterations\n"
   ]
  },
  {
   "cell_type": "markdown",
   "metadata": {},
   "source": [
    "Testing the data"
   ]
  },
  {
   "cell_type": "code",
   "execution_count": 31,
   "metadata": {},
   "outputs": [
    {
     "name": "stdout",
     "output_type": "stream",
     "text": [
      "10000/10000 [==============================] - 0s 19us/step\n",
      "Accuracy on test data 0.978700\n"
     ]
    }
   ],
   "source": [
    "# Destructure test data\n",
    "N, H, W = x_test.shape\n",
    "\n",
    "x = x_test.reshape((N, H*W)).astype('float') / 255\n",
    "y = to_categorical(y_test, num_classes=10)\n",
    "\n",
    "test_loss, test_acc = model.evaluate(x, y, batch_size=50)\n",
    "print 'Accuracy on test data %f' % test_acc"
   ]
  },
  {
   "cell_type": "code",
   "execution_count": null,
   "metadata": {},
   "outputs": [],
   "source": []
  }
 ],
 "metadata": {
  "kernelspec": {
   "display_name": "Python 2",
   "language": "python",
   "name": "python2"
  },
  "language_info": {
   "codemirror_mode": {
    "name": "ipython",
    "version": 2
   },
   "file_extension": ".py",
   "mimetype": "text/x-python",
   "name": "python",
   "nbconvert_exporter": "python",
   "pygments_lexer": "ipython2",
   "version": "2.7.10"
  }
 },
 "nbformat": 4,
 "nbformat_minor": 2
}
