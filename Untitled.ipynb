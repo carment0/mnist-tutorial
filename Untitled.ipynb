{
 "cells": [
  {
   "cell_type": "markdown",
   "metadata": {},
   "source": [
    "# Machine Learning Process\n",
    "\n",
    "## Model\n",
    "- Define a model to make predictions\n",
    "\n",
    "## Training\n",
    "- Define and calculate loss\n",
    "- Compute gradient\n",
    "- Update model parameters using gradient descent\n",
    "- Repeat above until loss is low enough\n",
    "\n",
    "## Testing\n",
    "- Feed new data into model and check accuracy\n",
    "\n",
    "# Foward Propagation\n",
    "- Feeding inputs of one layer to the next layer, taking the outputs of the next layer and feed it into the next next layer. \n",
    "\n",
    "\n",
    "\n",
    "\n"
   ]
  }
 ],
 "metadata": {
  "kernelspec": {
   "display_name": "Python 2",
   "language": "python",
   "name": "python2"
  },
  "language_info": {
   "codemirror_mode": {
    "name": "ipython",
    "version": 2
   },
   "file_extension": ".py",
   "mimetype": "text/x-python",
   "name": "python",
   "nbconvert_exporter": "python",
   "pygments_lexer": "ipython2",
   "version": "2.7.10"
  }
 },
 "nbformat": 4,
 "nbformat_minor": 2
}
