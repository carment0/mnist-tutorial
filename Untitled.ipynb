{
 "cells": [
  {
   "cell_type": "markdown",
   "metadata": {},
   "source": [
    "# Machine Learning Process\n",
    "\n",
    "## Model\n",
    "- Define a model to make predictions\n",
    "\n",
    "## Training\n",
    "- Define and calculate loss\n",
    "- Compute gradient\n",
    "- Update model parameters using gradient descent\n",
    "- Repeat above until loss is low enough\n",
    "\n",
    "## Testing\n",
    "- Feed new data into model and check accuracy\n",
    "\n",
    "# Foward Propagation\n",
    "- Feeding inputs of one layer to the next layer, taking the outputs of the next layer and feed it into the next next layer. \n",
    "\n",
    "## What did we do in the Dense project?\n",
    "Dense layer uses matrix as the weights\n",
    "Why matrix? Metrix is a transformation aka map (e.g. 4 input to 2 output) \n",
    "\n",
    "xW+b\n",
    "apply matrix to weight\n",
    "apply bias to output (numpy can \"broadcast\" the bias to all sample outputs)\n",
    "\n",
    "Neural network can handle non linear (not proportional) data because of Activition\n",
    "mx+b\n",
    "there is three types of acitivition:\n",
    "tan h\n",
    "Sigmoid - good for input\n",
    "ReLU - good for image\n",
    "\n",
    "Lets implemment ReLU!\n",
    "\n",
    "\n"
   ]
  }
 ],
 "metadata": {
  "kernelspec": {
   "display_name": "Python 2",
   "language": "python",
   "name": "python2"
  },
  "language_info": {
   "codemirror_mode": {
    "name": "ipython",
    "version": 2
   },
   "file_extension": ".py",
   "mimetype": "text/x-python",
   "name": "python",
   "nbconvert_exporter": "python",
   "pygments_lexer": "ipython2",
   "version": "2.7.10"
  }
 },
 "nbformat": 4,
 "nbformat_minor": 2
}
